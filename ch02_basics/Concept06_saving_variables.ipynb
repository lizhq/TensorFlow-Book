{
 "cells": [
  {
   "cell_type": "markdown",
   "metadata": {
    "deletable": true,
    "editable": true
   },
   "source": [
    "# Ch `02`: Concept `06`"
   ]
  },
  {
   "cell_type": "markdown",
   "metadata": {
    "deletable": true,
    "editable": true
   },
   "source": [
    "## Saving variables"
   ]
  },
  {
   "cell_type": "markdown",
   "metadata": {
    "deletable": true,
    "editable": true
   },
   "source": [
    "Create an interactive session and initialize a variable:"
   ]
  },
  {
   "cell_type": "code",
   "execution_count": 5,
   "metadata": {
    "collapsed": true,
    "deletable": true,
    "editable": true
   },
   "outputs": [
    {
     "name": "stdout",
     "output_type": "stream",
     "text": [
      "None <tf.Variable 'spikes:0' shape=(8,) dtype=bool, numpy=array([False, False, False, False, False, False, False, False])>\n"
     ]
    }
   ],
   "source": [
    "import tensorflow as tf\n",
    "\n",
    "raw_data = [1., 2., 8., -1., 0., 5.5, 6., 13]\n",
    "spikes = tf.Variable([False] * len(raw_data), name='spikes')\n",
    "print(spikes)"
   ]
  },
  {
   "cell_type": "markdown",
   "metadata": {
    "deletable": true,
    "editable": true
   },
   "source": [
    "The saver op will enable saving and restoring:"
   ]
  },
  {
   "cell_type": "code",
   "execution_count": 7,
   "metadata": {
    "collapsed": true,
    "deletable": true,
    "editable": true
   },
   "outputs": [],
   "source": [
    "#saver = tf.train.Saver()"
   ]
  },
  {
   "cell_type": "markdown",
   "metadata": {
    "deletable": true,
    "editable": true
   },
   "source": [
    "Loop through the data and update the spike variable when there is a significant increase:"
   ]
  },
  {
   "cell_type": "code",
   "execution_count": 10,
   "metadata": {
    "collapsed": false,
    "deletable": true,
    "editable": true
   },
   "outputs": [
    {
     "name": "stdout",
     "output_type": "stream",
     "text": [
      "<tf.Variable 'spikes:0' shape=(8,) dtype=bool, numpy=array([False, False,  True, False, False,  True, False,  True])>\n"
     ]
    }
   ],
   "source": [
    "for i in range(1, len(raw_data)):\n",
    "    if raw_data[i] - raw_data[i-1] > 5:\n",
    "        spikes[i].assign(True)\n",
    "print(spikes)"
   ]
  },
  {
   "cell_type": "markdown",
   "metadata": {
    "deletable": true,
    "editable": true
   },
   "source": [
    "Now, save your variable to disk!"
   ]
  },
  {
   "cell_type": "code",
   "execution_count": 21,
   "metadata": {
    "collapsed": false,
    "deletable": true,
    "editable": true
   },
   "outputs": [
    {
     "name": "stdout",
     "output_type": "stream",
     "text": [
      "f:\\Home\\github\\TensorFlow-Book\\ch02_basics\n",
      "spikes data saved in file: ./spikes/ckpt\n"
     ]
    }
   ],
   "source": [
    "import os\n",
    "print(os.getcwd())\n",
    "\n",
    "checkpoint = tf.train.Checkpoint(step = spikes)\n",
    "\n",
    "save_path = \"./spikes/ckpt\"\n",
    "checkpoint.save(save_path)\n",
    "print(f\"spikes data saved in file: {save_path}\")"
   ]
  },
  {
   "cell_type": "code",
   "execution_count": 34,
   "metadata": {},
   "outputs": [
    {
     "name": "stdout",
     "output_type": "stream",
     "text": [
      "<tf.Variable 'spikes:0' shape=(8,) dtype=bool, numpy=array([False, False, False, False, False, False, False, False])>\n"
     ]
    },
    {
     "ename": "TypeError",
     "evalue": "restore() got an unexpected keyword argument 'step'",
     "output_type": "error",
     "traceback": [
      "\u001b[1;31m---------------------------------------------------------------------------\u001b[0m",
      "\u001b[1;31mTypeError\u001b[0m                                 Traceback (most recent call last)",
      "Cell \u001b[1;32mIn[34], line 6\u001b[0m\n\u001b[0;32m      3\u001b[0m \u001b[39mprint\u001b[39m(spikes)\n\u001b[0;32m      5\u001b[0m \u001b[39m# Later, read the checkpoint with restore()\u001b[39;00m\n\u001b[1;32m----> 6\u001b[0m val \u001b[39m=\u001b[39m checkpoint\u001b[39m.\u001b[39;49mrestore(save_path \u001b[39m+\u001b[39;49m \u001b[39m'\u001b[39;49m\u001b[39m-1\u001b[39;49m\u001b[39m'\u001b[39;49m,step \u001b[39m=\u001b[39;49m spikes)\n\u001b[0;32m      7\u001b[0m \u001b[39m#val2 = checkpoint.read(save_path + '-1')\u001b[39;00m\n\u001b[0;32m      8\u001b[0m \u001b[39mprint\u001b[39m(spikes)\n",
      "\u001b[1;31mTypeError\u001b[0m: restore() got an unexpected keyword argument 'step'"
     ]
    }
   ],
   "source": [
    "raw_data = [1., 2., 8., -1., 0., 5.5, 6., 13]\n",
    "spikes = tf.Variable([False] * len(raw_data), name='spikes')\n",
    "print(spikes)\n",
    "\n",
    "# Later, read the checkpoint with restore()\n",
    "val = checkpoint.restore(save_path + '-1',step = spikes)\n",
    "#val2 = checkpoint.read(save_path + '-1')\n",
    "print(spikes)"
   ]
  },
  {
   "cell_type": "code",
   "execution_count": null,
   "metadata": {},
   "outputs": [],
   "source": []
  },
  {
   "cell_type": "markdown",
   "metadata": {
    "deletable": true,
    "editable": true
   },
   "source": [
    "Adieu:"
   ]
  }
 ],
 "metadata": {
  "kernelspec": {
   "display_name": "Python 3",
   "language": "python",
   "name": "python3"
  },
  "language_info": {
   "codemirror_mode": {
    "name": "ipython",
    "version": 3
   },
   "file_extension": ".py",
   "mimetype": "text/x-python",
   "name": "python",
   "nbconvert_exporter": "python",
   "pygments_lexer": "ipython3",
   "version": "3.9.16"
  }
 },
 "nbformat": 4,
 "nbformat_minor": 0
}
